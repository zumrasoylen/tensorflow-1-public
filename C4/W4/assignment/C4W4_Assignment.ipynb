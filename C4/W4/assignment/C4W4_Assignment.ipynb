{
  "cells": [
    {
      "cell_type": "markdown",
      "metadata": {
        "id": "iFcBb6K8lI8W"
      },
      "source": [
        "# Week 4: Using real world data\n",
        "\n",
        "Welcome! So far you have worked exclusively with generated data. This time you will be using the [Daily Minimum Temperatures in Melbourne](https://github.com/jbrownlee/Datasets/blob/master/daily-min-temperatures.csv) dataset which contains data of the daily minimum temperatures recorded in Melbourne from 1981 to 1990. In addition to be using Tensorflow's layers for processing sequence data such as Recurrent layers or LSTMs you will also use Convolutional layers to improve the model's performance.\n",
        "\n",
        "Let's get started!"
      ]
    },
    {
      "cell_type": "code",
      "execution_count": 6,
      "metadata": {
        "id": "56XEQOGknrAk"
      },
      "outputs": [],
      "source": [
        "import csv\n",
        "import pickle\n",
        "import numpy as np\n",
        "import tensorflow as tf\n",
        "import matplotlib.pyplot as plt\n",
        "import pandas as pd\n",
        "from dataclasses import dataclass"
      ]
    },
    {
      "cell_type": "markdown",
      "metadata": {
        "id": "qQ00-u0XlI8a"
      },
      "source": [
        "Begin by looking at the structure of the csv that contains the data:"
      ]
    },
    {
      "cell_type": "code",
      "execution_count": 10,
      "metadata": {
        "id": "fG6Z7YvrlI8b",
        "outputId": "408a2e35-5085-4a4d-e0bb-9bd90594d439",
        "colab": {
          "base_uri": "https://localhost:8080/"
        }
      },
      "outputs": [
        {
          "output_type": "stream",
          "name": "stdout",
          "text": [
            "Header looks like this:\n",
            "\n",
            "\"Date\",\"Temp\"\n",
            "\n",
            "First data point looks like this:\n",
            "\n",
            "\"1981-01-01\",20.7\n",
            "\n",
            "Second data point looks like this:\n",
            "\n",
            "\"1981-01-02\",17.9\n",
            "\n"
          ]
        }
      ],
      "source": [
        "TEMPERATURES_CSV = './data/daily-min-temperatures.csv'\n",
        "\n",
        "with open(TEMPERATURES_CSV, 'r') as csvfile:\n",
        "    print(f\"Header looks like this:\\n\\n{csvfile.readline()}\")    \n",
        "    print(f\"First data point looks like this:\\n\\n{csvfile.readline()}\")\n",
        "    print(f\"Second data point looks like this:\\n\\n{csvfile.readline()}\")"
      ]
    },
    {
      "cell_type": "markdown",
      "metadata": {
        "id": "iXYH74VFlI8b"
      },
      "source": [
        "As you can see, each data point is composed of the date and the recorded minimum temperature for that date.\n",
        "\n",
        "\n",
        "In the first exercise you will code a function to read the data from the csv but for now run the next cell to load a helper function to plot the time series."
      ]
    },
    {
      "cell_type": "code",
      "execution_count": 11,
      "metadata": {
        "id": "sLl52leVp5wU"
      },
      "outputs": [],
      "source": [
        "def plot_series(time, series, format=\"-\", start=0, end=None):\n",
        "    plt.plot(time[start:end], series[start:end], format)\n",
        "    plt.xlabel(\"Time\")\n",
        "    plt.ylabel(\"Value\")\n",
        "    plt.grid(True)"
      ]
    },
    {
      "cell_type": "markdown",
      "metadata": {
        "id": "Oj8pjFG-lI8d"
      },
      "source": [
        "## Parsing the raw data\n",
        "Now you need to read the data from the csv file. To do so, complete the `parse_data_from_file` function.\n",
        "\n",
        "A couple of things to note:\n",
        "\n",
        "- You should omit the first line as the file contains headers.\n",
        "- There is no need to save the data points as numpy arrays, regular lists is fine.\n",
        "- To read from csv files use `csv.reader` by passing the appropriate arguments.\n",
        "- `csv.reader` returns an iterable that returns each row in every iteration. So the temperature can be accessed via row[1] and the date can be discarded.\n",
        "- The `times` list should contain every timestep (starting at zero), which is just a sequence of ordered numbers with the same length as the `temperatures` list.\n",
        "- The values of the `temperatures` should be of `float` type. You can use Python's built-in `float` function to ensure this."
      ]
    },
    {
      "cell_type": "code",
      "execution_count": 22,
      "metadata": {
        "id": "NcG9r1eClbTh"
      },
      "outputs": [],
      "source": [
        "def parse_data_from_file(filename):\n",
        "    \n",
        "    times = []\n",
        "    temperatures = []\n",
        "\n",
        "    with open(filename) as csvfile:\n",
        "        \n",
        "        ### START CODE HERE\n",
        "        \n",
        "        reader = csv.reader(csvfile, delimiter=',')\n",
        "        next(reader)          \n",
        "        for row in reader:\n",
        "          temperatures.append(float(row[1]))\n",
        "        ### END CODE HERE\n",
        "        times = list(range(0, len(temperatures)))\n",
        "    return times, temperatures\n"
      ]
    },
    {
      "cell_type": "markdown",
      "metadata": {
        "id": "cN_pe4p3lI8e"
      },
      "source": [
        "The next cell will use your function to compute the `times` and `temperatures` and will save these as numpy arrays within the `G` dataclass. This cell will also plot the time series:"
      ]
    },
    {
      "cell_type": "code",
      "execution_count": 23,
      "metadata": {
        "id": "8FjeOXyzlI8f",
        "outputId": "fe45404d-a3d1-4a00-b691-99317ebc8f6b",
        "colab": {
          "base_uri": "https://localhost:8080/",
          "height": 405
        }
      },
      "outputs": [
        {
          "output_type": "stream",
          "name": "stdout",
          "text": [
            "3650 3650\n"
          ]
        },
        {
          "output_type": "display_data",
          "data": {
            "text/plain": [
              "<Figure size 720x432 with 1 Axes>"
            ],
            "image/png": "[encoded data removed]"
          },
          "metadata": {
            "needs_background": "light"
          }
        }
      ],
      "source": [
        "# Test your function and save all \"global\" variables within the G class (G stands for global)\n",
        "@dataclass\n",
        "class G:\n",
        "    TEMPERATURES_CSV = './data/daily-min-temperatures.csv'\n",
        "    times, temperatures = parse_data_from_file(TEMPERATURES_CSV)\n",
        "    TIME = np.array(times)\n",
        "    SERIES = np.array(temperatures)\n",
        "    SPLIT_TIME = 2500\n",
        "    WINDOW_SIZE = 64\n",
        "    BATCH_SIZE = 256\n",
        "    SHUFFLE_BUFFER_SIZE = 1000\n",
        "\n",
        "\n",
        "plt.figure(figsize=(10, 6))\n",
        "plot_series(G.TIME, G.SERIES)\n",
        "plt.show()"
      ]
    },
    {
      "cell_type": "markdown",
      "metadata": {
        "id": "_8c3PVNylI8g"
      },
      "source": [
        "**Expected Output:**\n",
        "<div>\n",
        "<img src=\"https://github.com/zumrasoylen/tensorflow-1-public/blob/main/C4/W4/assignment/images/temp-series.png?raw=1\" width=\"500\"/>\n",
        "</div>"
      ]
    },
    {
      "cell_type": "markdown",
      "metadata": {
        "id": "32ZUru2xlI8g"
      },
      "source": [
        "## Processing the data\n",
        "\n",
        "Since you already coded the `train_val_split` and `windowed_dataset` functions during past week's assignments, this time they are provided for you:"
      ]
    },
    {
      "cell_type": "code",
      "execution_count": 24,
      "metadata": {
        "id": "NBIRiY-5lI8h"
      },
      "outputs": [],
      "source": [
        "def train_val_split(time, series, time_step=G.SPLIT_TIME):\n",
        "\n",
        "    time_train = time[:time_step]\n",
        "    series_train = series[:time_step]\n",
        "    time_valid = time[time_step:]\n",
        "    series_valid = series[time_step:]\n",
        "\n",
        "    return time_train, series_train, time_valid, series_valid\n",
        "\n",
        "\n",
        "# Split the dataset\n",
        "time_train, series_train, time_valid, series_valid = train_val_split(G.TIME, G.SERIES)"
      ]
    },
    {
      "cell_type": "code",
      "execution_count": 25,
      "metadata": {
        "id": "lJwUUZscnG38"
      },
      "outputs": [],
      "source": [
        "def windowed_dataset(series, window_size=G.WINDOW_SIZE, batch_size=G.BATCH_SIZE, shuffle_buffer=G.SHUFFLE_BUFFER_SIZE):\n",
        "    ds = tf.data.Dataset.from_tensor_slices(series)\n",
        "    ds = ds.window(window_size + 1, shift=1, drop_remainder=True)\n",
        "    ds = ds.flat_map(lambda w: w.batch(window_size + 1))\n",
        "    ds = ds.shuffle(shuffle_buffer)\n",
        "    ds = ds.map(lambda w: (w[:-1], w[-1]))\n",
        "    ds = ds.batch(batch_size).prefetch(1)\n",
        "    return ds\n",
        "\n",
        "\n",
        "# Apply the transformation to the training set\n",
        "train_set = windowed_dataset(series_train, window_size=64, batch_size=256, shuffle_buffer=1000)"
      ]
    },
    {
      "cell_type": "markdown",
      "metadata": {
        "id": "s4_EJ5NClI8h"
      },
      "source": [
        "## Defining the model architecture\n",
        "\n",
        "Now that you have a function that will process the data before it is fed into your neural network for training, it is time to define your layer architecture. Just as in last week's assignment you will do the layer definition and compilation in two separate steps. Begin by completing the `create_uncompiled_model` function below.\n",
        "\n",
        "This is done so you can reuse your model's layers for the learning rate adjusting and the actual training.\n",
        "\n",
        "Hint:\n",
        "\n",
        "- No `Lambda` layers are required\n",
        "- Use a combination of `Conv1D` and `LSTM` layers followed by `Dense` layers"
      ]
    },
    {
      "cell_type": "code",
      "execution_count": 29,
      "metadata": {
        "id": "5GpELixVlI8i"
      },
      "outputs": [],
      "source": [
        "def create_uncompiled_model():\n",
        "\n",
        "    ### START CODE HERE\n",
        "    \n",
        "    model = tf.keras.models.Sequential([\n",
        "      tf.keras.layers.Conv1D(filters = 64, kernel_size=3,\n",
        "                      strides=1,\n",
        "                      activation=\"relu\",\n",
        "                      padding='causal',\n",
        "                      input_shape=[G.WINDOW_SIZE, 1]),\n",
        "      tf.keras.layers.LSTM(30, return_sequences = True),\n",
        "      tf.keras.layers.LSTM(15),\n",
        "      tf.keras.layers.Dense(30),\n",
        "      tf.keras.layers.Dense(15),\n",
        "      tf.keras.layers.Dense(1)\n",
        "    ]) \n",
        "    \n",
        "    ### END CODE HERE\n",
        "\n",
        "    return model"
      ]
    },
    {
      "cell_type": "code",
      "execution_count": 30,
      "metadata": {
        "id": "Hm8eF8BjlI8i",
        "outputId": "396a938b-55f0-4118-cb45-b136bf5dee85",
        "colab": {
          "base_uri": "https://localhost:8080/"
        }
      },
      "outputs": [
        {
          "output_type": "stream",
          "name": "stdout",
          "text": [
            "10/10 [==============================] - 2s 64ms/step\n",
            "Your current architecture is compatible with the windowed dataset! :)\n"
          ]
        }
      ],
      "source": [
        "# Test your uncompiled model\n",
        "uncompiled_model = create_uncompiled_model()\n",
        "\n",
        "try:\n",
        "    uncompiled_model.predict(train_set)\n",
        "except:\n",
        "    print(\"Your current architecture is incompatible with the windowed dataset, try adjusting it.\")\n",
        "else:\n",
        "    print(\"Your current architecture is compatible with the windowed dataset! :)\")"
      ]
    },
    {
      "cell_type": "markdown",
      "metadata": {
        "id": "yvHKwGq7lI8i"
      },
      "source": [
        "## Adjusting the learning rate - (Optional Exercise)\n",
        "\n",
        "As you saw in the lecture you can leverage Tensorflow's callbacks to dinamically vary the learning rate during training. This can be helpful to get a better sense of which learning rate better acommodates to the problem at hand.\n",
        "\n",
        "**Notice that this is only changing the learning rate during the training process to give you an idea of what a reasonable learning rate is and should not be confused with selecting the best learning rate, this is known as hyperparameter optimization and it is outside the scope of this course.**\n",
        "\n",
        "For the optimizers you can try out:\n",
        "\n",
        "- tf.keras.optimizers.Adam\n",
        "- tf.keras.optimizers.SGD with a momentum of 0.9"
      ]
    },
    {
      "cell_type": "code",
      "execution_count": 35,
      "metadata": {
        "id": "KLU-rAtclI8j"
      },
      "outputs": [],
      "source": [
        "def adjust_learning_rate(dataset):\n",
        "    \n",
        "    model = create_uncompiled_model()\n",
        "    \n",
        "    lr_schedule = tf.keras.callbacks.LearningRateScheduler(lambda epoch: 1e-4 * 10**(epoch / 20))\n",
        "    \n",
        "    ### START CODE HERE\n",
        "    \n",
        "    # Select your optimizer\n",
        "    optimizer = tf.keras.optimizers.Adam(learning_rate = 5e-7)\n",
        "    \n",
        "    # Compile the model passing in the appropriate loss\n",
        "    model.compile(loss=tf.keras.losses.Huber(),\n",
        "                  optimizer=optimizer, \n",
        "                  metrics=[\"mae\"]) \n",
        "    \n",
        "    ### END CODE HERE\n",
        "    \n",
        "    history = model.fit(dataset, epochs=100, callbacks=[lr_schedule])\n",
        "    \n",
        "    return history"
      ]
    },
    {
      "cell_type": "code",
      "execution_count": 36,
      "metadata": {
        "id": "1i0q4qtclI8j",
        "outputId": "3d3f2e62-c459-4604-d3fa-19eb621cd56e",
        "colab": {
          "base_uri": "https://localhost:8080/"
        }
      },
      "outputs": [
        {
          "output_type": "stream",
          "name": "stdout",
          "text": [
            "Epoch 1/100\n",
            "10/10 [==============================] - 6s 160ms/step - loss: 9.9176 - mae: 10.4163 - lr: 1.0000e-04\n",
            "Epoch 2/100\n",
            "10/10 [==============================] - 2s 157ms/step - loss: 9.7115 - mae: 10.2101 - lr: 1.1220e-04\n",
            "Epoch 3/100\n",
            "10/10 [==============================] - 2s 158ms/step - loss: 9.4950 - mae: 9.9934 - lr: 1.2589e-04\n",
            "Epoch 4/100\n",
            "10/10 [==============================] - 2s 191ms/step - loss: 9.2498 - mae: 9.7481 - lr: 1.4125e-04\n",
            "Epoch 5/100\n",
            "10/10 [==============================] - 4s 299ms/step - loss: 8.9586 - mae: 9.4570 - lr: 1.5849e-04\n",
            "Epoch 6/100\n",
            "10/10 [==============================] - 2s 149ms/step - loss: 8.6009 - mae: 9.0991 - lr: 1.7783e-04\n",
            "Epoch 7/100\n",
            "10/10 [==============================] - 2s 148ms/step - loss: 8.1463 - mae: 8.6440 - lr: 1.9953e-04\n",
            "Epoch 8/100\n",
            "10/10 [==============================] - 2s 141ms/step - loss: 7.5664 - mae: 8.0620 - lr: 2.2387e-04\n",
            "Epoch 9/100\n",
            "10/10 [==============================] - 2s 141ms/step - loss: 6.8080 - mae: 7.3020 - lr: 2.5119e-04\n",
            "Epoch 10/100\n",
            "10/10 [==============================] - 2s 140ms/step - loss: 5.8337 - mae: 6.3228 - lr: 2.8184e-04\n",
            "Epoch 11/100\n",
            "10/10 [==============================] - 2s 139ms/step - loss: 4.6656 - mae: 5.1478 - lr: 3.1623e-04\n",
            "Epoch 12/100\n",
            "10/10 [==============================] - 2s 150ms/step - loss: 3.4670 - mae: 3.9397 - lr: 3.5481e-04\n",
            "Epoch 13/100\n",
            "10/10 [==============================] - 2s 140ms/step - loss: 2.7435 - mae: 3.2109 - lr: 3.9811e-04\n",
            "Epoch 14/100\n",
            "10/10 [==============================] - 2s 139ms/step - loss: 2.6444 - mae: 3.1114 - lr: 4.4668e-04\n",
            "Epoch 15/100\n",
            "10/10 [==============================] - 2s 214ms/step - loss: 2.5691 - mae: 3.0343 - lr: 5.0119e-04\n",
            "Epoch 16/100\n",
            "10/10 [==============================] - 2s 163ms/step - loss: 2.4105 - mae: 2.8715 - lr: 5.6234e-04\n",
            "Epoch 17/100\n",
            "10/10 [==============================] - 2s 181ms/step - loss: 2.2985 - mae: 2.7593 - lr: 6.3096e-04\n",
            "Epoch 18/100\n",
            "10/10 [==============================] - 3s 223ms/step - loss: 2.0322 - mae: 2.4885 - lr: 7.0795e-04\n",
            "Epoch 19/100\n",
            "10/10 [==============================] - 2s 155ms/step - loss: 1.8777 - mae: 2.3314 - lr: 7.9433e-04\n",
            "Epoch 20/100\n",
            "10/10 [==============================] - 2s 143ms/step - loss: 1.7877 - mae: 2.2396 - lr: 8.9125e-04\n",
            "Epoch 21/100\n",
            "10/10 [==============================] - 2s 149ms/step - loss: 1.7554 - mae: 2.2057 - lr: 0.0010\n",
            "Epoch 22/100\n",
            "10/10 [==============================] - 2s 140ms/step - loss: 1.6968 - mae: 2.1466 - lr: 0.0011\n",
            "Epoch 23/100\n",
            "10/10 [==============================] - 2s 147ms/step - loss: 1.6927 - mae: 2.1409 - lr: 0.0013\n",
            "Epoch 24/100\n",
            "10/10 [==============================] - 2s 151ms/step - loss: 1.6637 - mae: 2.1117 - lr: 0.0014\n",
            "Epoch 25/100\n",
            "10/10 [==============================] - 2s 145ms/step - loss: 1.6606 - mae: 2.1076 - lr: 0.0016\n",
            "Epoch 26/100\n",
            "10/10 [==============================] - 2s 146ms/step - loss: 1.6154 - mae: 2.0626 - lr: 0.0018\n",
            "Epoch 27/100\n",
            "10/10 [==============================] - 2s 156ms/step - loss: 1.6624 - mae: 2.1118 - lr: 0.0020\n",
            "Epoch 28/100\n",
            "10/10 [==============================] - 2s 139ms/step - loss: 1.6159 - mae: 2.0646 - lr: 0.0022\n",
            "Epoch 29/100\n",
            "10/10 [==============================] - 2s 154ms/step - loss: 1.5776 - mae: 2.0224 - lr: 0.0025\n",
            "Epoch 30/100\n",
            "10/10 [==============================] - 2s 148ms/step - loss: 1.5648 - mae: 2.0107 - lr: 0.0028\n",
            "Epoch 31/100\n",
            "10/10 [==============================] - 2s 159ms/step - loss: 1.5958 - mae: 2.0464 - lr: 0.0032\n",
            "Epoch 32/100\n",
            "10/10 [==============================] - 2s 155ms/step - loss: 1.5957 - mae: 2.0426 - lr: 0.0035\n",
            "Epoch 33/100\n",
            "10/10 [==============================] - 2s 156ms/step - loss: 1.5678 - mae: 2.0144 - lr: 0.0040\n",
            "Epoch 34/100\n",
            "10/10 [==============================] - 2s 153ms/step - loss: 1.5366 - mae: 1.9787 - lr: 0.0045\n",
            "Epoch 35/100\n",
            "10/10 [==============================] - 2s 145ms/step - loss: 1.5093 - mae: 1.9494 - lr: 0.0050\n",
            "Epoch 36/100\n",
            "10/10 [==============================] - 2s 152ms/step - loss: 1.5347 - mae: 1.9771 - lr: 0.0056\n",
            "Epoch 37/100\n",
            "10/10 [==============================] - 2s 153ms/step - loss: 1.5280 - mae: 1.9710 - lr: 0.0063\n",
            "Epoch 38/100\n",
            "10/10 [==============================] - 2s 140ms/step - loss: 1.5276 - mae: 1.9683 - lr: 0.0071\n",
            "Epoch 39/100\n",
            "10/10 [==============================] - 2s 145ms/step - loss: 1.5213 - mae: 1.9619 - lr: 0.0079\n",
            "Epoch 40/100\n",
            "10/10 [==============================] - 2s 142ms/step - loss: 1.5001 - mae: 1.9409 - lr: 0.0089\n",
            "Epoch 41/100\n",
            "10/10 [==============================] - 2s 141ms/step - loss: 1.5046 - mae: 1.9471 - lr: 0.0100\n",
            "Epoch 42/100\n",
            "10/10 [==============================] - 2s 160ms/step - loss: 1.5350 - mae: 1.9785 - lr: 0.0112\n",
            "Epoch 43/100\n",
            "10/10 [==============================] - 2s 141ms/step - loss: 1.8755 - mae: 2.3306 - lr: 0.0126\n",
            "Epoch 44/100\n",
            "10/10 [==============================] - 2s 142ms/step - loss: 1.8168 - mae: 2.2727 - lr: 0.0141\n",
            "Epoch 45/100\n",
            "10/10 [==============================] - 2s 140ms/step - loss: 1.6542 - mae: 2.0999 - lr: 0.0158\n",
            "Epoch 46/100\n",
            "10/10 [==============================] - 2s 144ms/step - loss: 1.5369 - mae: 1.9776 - lr: 0.0178\n",
            "Epoch 47/100\n",
            "10/10 [==============================] - 2s 146ms/step - loss: 1.5185 - mae: 1.9615 - lr: 0.0200\n",
            "Epoch 48/100\n",
            "10/10 [==============================] - 2s 140ms/step - loss: 1.6837 - mae: 2.1260 - lr: 0.0224\n",
            "Epoch 49/100\n",
            "10/10 [==============================] - 2s 152ms/step - loss: 1.6588 - mae: 2.1071 - lr: 0.0251\n",
            "Epoch 50/100\n",
            "10/10 [==============================] - 2s 144ms/step - loss: 1.5485 - mae: 1.9941 - lr: 0.0282\n",
            "Epoch 51/100\n",
            "10/10 [==============================] - 2s 159ms/step - loss: 1.5000 - mae: 1.9423 - lr: 0.0316\n",
            "Epoch 52/100\n",
            "10/10 [==============================] - 2s 152ms/step - loss: 1.6235 - mae: 2.0683 - lr: 0.0355\n",
            "Epoch 53/100\n",
            "10/10 [==============================] - 2s 144ms/step - loss: 1.6333 - mae: 2.0810 - lr: 0.0398\n",
            "Epoch 54/100\n",
            "10/10 [==============================] - 2s 160ms/step - loss: 1.8384 - mae: 2.2933 - lr: 0.0447\n",
            "Epoch 55/100\n",
            "10/10 [==============================] - 2s 153ms/step - loss: 1.9692 - mae: 2.4262 - lr: 0.0501\n",
            "Epoch 56/100\n",
            "10/10 [==============================] - 2s 158ms/step - loss: 1.7656 - mae: 2.2116 - lr: 0.0562\n",
            "Epoch 57/100\n",
            "10/10 [==============================] - 2s 144ms/step - loss: 1.5353 - mae: 1.9745 - lr: 0.0631\n",
            "Epoch 58/100\n",
            "10/10 [==============================] - 2s 156ms/step - loss: 1.6889 - mae: 2.1341 - lr: 0.0708\n",
            "Epoch 59/100\n",
            "10/10 [==============================] - 2s 139ms/step - loss: 1.8758 - mae: 2.3298 - lr: 0.0794\n",
            "Epoch 60/100\n",
            "10/10 [==============================] - 2s 159ms/step - loss: 1.9668 - mae: 2.4214 - lr: 0.0891\n",
            "Epoch 61/100\n",
            "10/10 [==============================] - 2s 157ms/step - loss: 2.2386 - mae: 2.6994 - lr: 0.1000\n",
            "Epoch 62/100\n",
            "10/10 [==============================] - 2s 155ms/step - loss: 2.0928 - mae: 2.5532 - lr: 0.1122\n",
            "Epoch 63/100\n",
            "10/10 [==============================] - 2s 142ms/step - loss: 1.8368 - mae: 2.2884 - lr: 0.1259\n",
            "Epoch 64/100\n",
            "10/10 [==============================] - 2s 159ms/step - loss: 1.7995 - mae: 2.2445 - lr: 0.1413\n",
            "Epoch 65/100\n",
            "10/10 [==============================] - 2s 154ms/step - loss: 2.0042 - mae: 2.4599 - lr: 0.1585\n",
            "Epoch 66/100\n",
            "10/10 [==============================] - 2s 147ms/step - loss: 2.1711 - mae: 2.6289 - lr: 0.1778\n",
            "Epoch 67/100\n",
            "10/10 [==============================] - 2s 151ms/step - loss: 1.9814 - mae: 2.4345 - lr: 0.1995\n",
            "Epoch 68/100\n",
            "10/10 [==============================] - 2s 146ms/step - loss: 1.9165 - mae: 2.3708 - lr: 0.2239\n",
            "Epoch 69/100\n",
            "10/10 [==============================] - 2s 141ms/step - loss: 1.9998 - mae: 2.4537 - lr: 0.2512\n",
            "Epoch 70/100\n",
            "10/10 [==============================] - 2s 144ms/step - loss: 2.0667 - mae: 2.5199 - lr: 0.2818\n",
            "Epoch 71/100\n",
            "10/10 [==============================] - 2s 153ms/step - loss: 2.4456 - mae: 2.9069 - lr: 0.3162\n",
            "Epoch 72/100\n",
            "10/10 [==============================] - 2s 158ms/step - loss: 2.4979 - mae: 2.9647 - lr: 0.3548\n",
            "Epoch 73/100\n",
            "10/10 [==============================] - 2s 156ms/step - loss: 2.5759 - mae: 3.0436 - lr: 0.3981\n",
            "Epoch 74/100\n",
            "10/10 [==============================] - 2s 152ms/step - loss: 6.1024 - mae: 6.5821 - lr: 0.4467\n",
            "Epoch 75/100\n",
            "10/10 [==============================] - 2s 154ms/step - loss: 24.2544 - mae: 24.7457 - lr: 0.5012\n",
            "Epoch 76/100\n",
            "10/10 [==============================] - 2s 157ms/step - loss: 16.5411 - mae: 17.0334 - lr: 0.5623\n",
            "Epoch 77/100\n",
            "10/10 [==============================] - 2s 158ms/step - loss: 19.8453 - mae: 20.3376 - lr: 0.6310\n",
            "Epoch 78/100\n",
            "10/10 [==============================] - 2s 144ms/step - loss: 58.1822 - mae: 58.6778 - lr: 0.7079\n",
            "Epoch 79/100\n",
            "10/10 [==============================] - 2s 139ms/step - loss: 35.0769 - mae: 35.5730 - lr: 0.7943\n",
            "Epoch 80/100\n",
            "10/10 [==============================] - 2s 144ms/step - loss: 57.3979 - mae: 57.8979 - lr: 0.8913\n",
            "Epoch 81/100\n",
            "10/10 [==============================] - 2s 161ms/step - loss: 32.6994 - mae: 33.1941 - lr: 1.0000\n",
            "Epoch 82/100\n",
            "10/10 [==============================] - 2s 157ms/step - loss: 24.6338 - mae: 25.1295 - lr: 1.1220\n",
            "Epoch 83/100\n",
            "10/10 [==============================] - 2s 148ms/step - loss: 34.1135 - mae: 34.6021 - lr: 1.2589\n",
            "Epoch 84/100\n",
            "10/10 [==============================] - 2s 159ms/step - loss: 53.4465 - mae: 53.9428 - lr: 1.4125\n",
            "Epoch 85/100\n",
            "10/10 [==============================] - 2s 160ms/step - loss: 30.6140 - mae: 31.1105 - lr: 1.5849\n",
            "Epoch 86/100\n",
            "10/10 [==============================] - 2s 151ms/step - loss: 12.9403 - mae: 13.4285 - lr: 1.7783\n",
            "Epoch 87/100\n",
            "10/10 [==============================] - 2s 156ms/step - loss: 49.2110 - mae: 49.7007 - lr: 1.9953\n",
            "Epoch 88/100\n",
            "10/10 [==============================] - 2s 147ms/step - loss: 31386.6602 - mae: 31387.1621 - lr: 2.2387\n",
            "Epoch 89/100\n",
            "10/10 [==============================] - 2s 163ms/step - loss: 46216.9375 - mae: 46217.4336 - lr: 2.5119\n",
            "Epoch 90/100\n",
            "10/10 [==============================] - 2s 159ms/step - loss: 16690.5605 - mae: 16691.0605 - lr: 2.8184\n",
            "Epoch 91/100\n",
            "10/10 [==============================] - 2s 159ms/step - loss: 7416.4541 - mae: 7416.9541 - lr: 3.1623\n",
            "Epoch 92/100\n",
            "10/10 [==============================] - 2s 155ms/step - loss: 4286.5815 - mae: 4287.0815 - lr: 3.5481\n",
            "Epoch 93/100\n",
            "10/10 [==============================] - 2s 160ms/step - loss: 1780.8263 - mae: 1781.3263 - lr: 3.9811\n",
            "Epoch 94/100\n",
            "10/10 [==============================] - 2s 143ms/step - loss: 1521.0428 - mae: 1521.5428 - lr: 4.4668\n",
            "Epoch 95/100\n",
            "10/10 [==============================] - 2s 142ms/step - loss: 2562.9568 - mae: 2563.4568 - lr: 5.0119\n",
            "Epoch 96/100\n",
            "10/10 [==============================] - 2s 142ms/step - loss: 544.4592 - mae: 544.9592 - lr: 5.6234\n",
            "Epoch 97/100\n",
            "10/10 [==============================] - 2s 141ms/step - loss: 522.3360 - mae: 522.8360 - lr: 6.3096\n",
            "Epoch 98/100\n",
            "10/10 [==============================] - 2s 145ms/step - loss: 792.9481 - mae: 793.4481 - lr: 7.0795\n",
            "Epoch 99/100\n",
            "10/10 [==============================] - 2s 154ms/step - loss: 1612.9612 - mae: 1613.4612 - lr: 7.9433\n",
            "Epoch 100/100\n",
            "10/10 [==============================] - 2s 157ms/step - loss: 6216.7490 - mae: 6217.2490 - lr: 8.9125\n"
          ]
        }
      ],
      "source": [
        "# Run the training with dynamic LR\n",
        "lr_history = adjust_learning_rate(train_set)"
      ]
    },
    {
      "cell_type": "code",
      "execution_count": 42,
      "metadata": {
        "colab": {
          "base_uri": "https://localhost:8080/",
          "height": 290
        },
        "id": "vVcKmg7Q_7rD",
        "outputId": "01210422-d494-43fe-8de6-d4fc06acdeb7"
      },
      "outputs": [
        {
          "output_type": "execute_result",
          "data": {
            "text/plain": [
              "(0.0006, 10.0, 0.0, 4.0)"
            ]
          },
          "metadata": {},
          "execution_count": 42
        },
        {
          "output_type": "display_data",
          "data": {
            "text/plain": [
              "<Figure size 432x288 with 1 Axes>"
            ],
            "image/png": "[encoded data removed]"
          },
          "metadata": {
            "needs_background": "light"
          }
        }
      ],
      "source": [
        "plt.semilogx(lr_history.history[\"lr\"], lr_history.history[\"loss\"])\n",
        "plt.axis([6e-4, 10, 0, 4])"
      ]
    },
    {
      "cell_type": "markdown",
      "metadata": {
        "id": "QcNNE8mylI8k"
      },
      "source": [
        "## Compiling the model\n",
        "Now that you have trained the model while varying the learning rate, it is time to do the actual training that will be used to forecast the time series. For this complete the `create_model` function below.\n",
        "\n",
        "Notice that you are reusing the architecture you defined in the `create_uncompiled_model` earlier. Now you only need to compile this model using the appropriate loss, optimizer (and learning rate).\n",
        "\n",
        "Hints:\n",
        "\n",
        "- The training should be really quick so if you notice that each epoch is taking more than a few seconds, consider trying a different architecture.\n",
        "\n",
        "\n",
        "- If after the first epoch you get an output like this: loss: nan - mae: nan it is very likely that your network is suffering from exploding gradients. This is a common problem if you used SGD as optimizer and set a learning rate that is too high. If you encounter this problem consider lowering the learning rate or using Adam with the default learning rate."
      ]
    },
    {
      "cell_type": "code",
      "execution_count": 51,
      "metadata": {
        "id": "f2eSG3U-lI8k"
      },
      "outputs": [],
      "source": [
        "def create_model():\n",
        "\n",
        "    \n",
        "    model = create_uncompiled_model()\n",
        "\n",
        "    ### START CODE HERE\n",
        "\n",
        "    model.compile(loss=tf.keras.losses.Huber(),\n",
        "                  optimizer=tf.keras.optimizers.Adam(learning_rate = 8e-3),\n",
        "                  metrics=[\"mae\"])  \n",
        "    \n",
        "\n",
        "    ### END CODE HERE\n",
        "\n",
        "    return model"
      ]
    },
    {
      "cell_type": "code",
      "execution_count": 52,
      "metadata": {
        "id": "sLIJVNLalI8l",
        "outputId": "08cf866d-7521-4cf6-f846-4e1e6b835add",
        "colab": {
          "base_uri": "https://localhost:8080/"
        }
      },
      "outputs": [
        {
          "output_type": "stream",
          "name": "stdout",
          "text": [
            "Epoch 1/50\n",
            "10/10 [==============================] - 6s 147ms/step - loss: 6.0183 - mae: 6.5032\n",
            "Epoch 2/50\n",
            "10/10 [==============================] - 2s 160ms/step - loss: 3.0641 - mae: 3.5325\n",
            "Epoch 3/50\n",
            "10/10 [==============================] - 2s 145ms/step - loss: 2.7364 - mae: 3.2031\n",
            "Epoch 4/50\n",
            "10/10 [==============================] - 2s 143ms/step - loss: 2.3732 - mae: 2.8319\n",
            "Epoch 5/50\n",
            "10/10 [==============================] - 2s 140ms/step - loss: 1.8872 - mae: 2.3387\n",
            "Epoch 6/50\n",
            "10/10 [==============================] - 2s 141ms/step - loss: 1.7264 - mae: 2.1758\n",
            "Epoch 7/50\n",
            "10/10 [==============================] - 2s 140ms/step - loss: 1.5778 - mae: 2.0250\n",
            "Epoch 8/50\n",
            "10/10 [==============================] - 2s 143ms/step - loss: 1.5122 - mae: 1.9562\n",
            "Epoch 9/50\n",
            "10/10 [==============================] - 2s 155ms/step - loss: 1.5022 - mae: 1.9420\n",
            "Epoch 10/50\n",
            "10/10 [==============================] - 2s 137ms/step - loss: 1.5099 - mae: 1.9509\n",
            "Epoch 11/50\n",
            "10/10 [==============================] - 2s 151ms/step - loss: 1.5033 - mae: 1.9456\n",
            "Epoch 12/50\n",
            "10/10 [==============================] - 2s 155ms/step - loss: 1.4910 - mae: 1.9337\n",
            "Epoch 13/50\n",
            "10/10 [==============================] - 2s 154ms/step - loss: 1.4788 - mae: 1.9186\n",
            "Epoch 14/50\n",
            "10/10 [==============================] - 2s 161ms/step - loss: 1.4705 - mae: 1.9088\n",
            "Epoch 15/50\n",
            "10/10 [==============================] - 2s 142ms/step - loss: 1.4931 - mae: 1.9323\n",
            "Epoch 16/50\n",
            "10/10 [==============================] - 2s 148ms/step - loss: 1.5033 - mae: 1.9411\n",
            "Epoch 17/50\n",
            "10/10 [==============================] - 2s 136ms/step - loss: 1.4822 - mae: 1.9199\n",
            "Epoch 18/50\n",
            "10/10 [==============================] - 2s 140ms/step - loss: 1.5401 - mae: 1.9818\n",
            "Epoch 19/50\n",
            "10/10 [==============================] - 2s 146ms/step - loss: 1.5326 - mae: 1.9732\n",
            "Epoch 20/50\n",
            "10/10 [==============================] - 2s 145ms/step - loss: 1.4763 - mae: 1.9153\n",
            "Epoch 21/50\n",
            "10/10 [==============================] - 2s 144ms/step - loss: 1.4793 - mae: 1.9190\n",
            "Epoch 22/50\n",
            "10/10 [==============================] - 2s 155ms/step - loss: 1.5109 - mae: 1.9493\n",
            "Epoch 23/50\n",
            "10/10 [==============================] - 2s 143ms/step - loss: 1.5069 - mae: 1.9478\n",
            "Epoch 24/50\n",
            "10/10 [==============================] - 2s 149ms/step - loss: 1.4805 - mae: 1.9198\n",
            "Epoch 25/50\n",
            "10/10 [==============================] - 2s 158ms/step - loss: 1.4816 - mae: 1.9209\n",
            "Epoch 26/50\n",
            "10/10 [==============================] - 2s 146ms/step - loss: 1.4496 - mae: 1.8894\n",
            "Epoch 27/50\n",
            "10/10 [==============================] - 2s 143ms/step - loss: 1.4397 - mae: 1.8749\n",
            "Epoch 28/50\n",
            "10/10 [==============================] - 2s 154ms/step - loss: 1.4428 - mae: 1.8793\n",
            "Epoch 29/50\n",
            "10/10 [==============================] - 2s 159ms/step - loss: 1.4563 - mae: 1.8952\n",
            "Epoch 30/50\n",
            "10/10 [==============================] - 2s 156ms/step - loss: 1.5470 - mae: 1.9923\n",
            "Epoch 31/50\n",
            "10/10 [==============================] - 2s 137ms/step - loss: 1.4969 - mae: 1.9380\n",
            "Epoch 32/50\n",
            "10/10 [==============================] - 2s 148ms/step - loss: 1.5433 - mae: 1.9875\n",
            "Epoch 33/50\n",
            "10/10 [==============================] - 2s 154ms/step - loss: 1.4720 - mae: 1.9086\n",
            "Epoch 34/50\n",
            "10/10 [==============================] - 2s 147ms/step - loss: 1.4581 - mae: 1.8962\n",
            "Epoch 35/50\n",
            "10/10 [==============================] - 2s 144ms/step - loss: 1.4520 - mae: 1.8918\n",
            "Epoch 36/50\n",
            "10/10 [==============================] - 2s 139ms/step - loss: 1.4560 - mae: 1.8932\n",
            "Epoch 37/50\n",
            "10/10 [==============================] - 2s 148ms/step - loss: 1.5006 - mae: 1.9424\n",
            "Epoch 38/50\n",
            "10/10 [==============================] - 2s 164ms/step - loss: 1.4499 - mae: 1.8893\n",
            "Epoch 39/50\n",
            "10/10 [==============================] - 2s 139ms/step - loss: 1.5088 - mae: 1.9502\n",
            "Epoch 40/50\n",
            "10/10 [==============================] - 4s 322ms/step - loss: 1.4610 - mae: 1.8991\n",
            "Epoch 41/50\n",
            "10/10 [==============================] - 2s 155ms/step - loss: 1.4366 - mae: 1.8712\n",
            "Epoch 42/50\n",
            "10/10 [==============================] - 2s 149ms/step - loss: 1.4385 - mae: 1.8757\n",
            "Epoch 43/50\n",
            "10/10 [==============================] - 2s 148ms/step - loss: 1.4449 - mae: 1.8787\n",
            "Epoch 44/50\n",
            "10/10 [==============================] - 2s 158ms/step - loss: 1.5127 - mae: 1.9536\n",
            "Epoch 45/50\n",
            "10/10 [==============================] - 2s 147ms/step - loss: 1.4543 - mae: 1.8902\n",
            "Epoch 46/50\n",
            "10/10 [==============================] - 2s 161ms/step - loss: 1.4571 - mae: 1.8946\n",
            "Epoch 47/50\n",
            "10/10 [==============================] - 2s 146ms/step - loss: 1.4506 - mae: 1.8857\n",
            "Epoch 48/50\n",
            "10/10 [==============================] - 2s 139ms/step - loss: 1.4691 - mae: 1.9091\n",
            "Epoch 49/50\n",
            "10/10 [==============================] - 2s 144ms/step - loss: 1.4288 - mae: 1.8641\n",
            "Epoch 50/50\n",
            "10/10 [==============================] - 2s 144ms/step - loss: 1.4228 - mae: 1.8575\n"
          ]
        }
      ],
      "source": [
        "# Save an instance of the model\n",
        "model = create_model()\n",
        "\n",
        "# Train it\n",
        "history = model.fit(train_set, epochs=50)"
      ]
    },
    {
      "cell_type": "markdown",
      "metadata": {
        "id": "tCFgwIPklI8l"
      },
      "source": [
        "## Evaluating the forecast\n",
        "\n",
        "Now it is time to evaluate the performance of the forecast. For this you can use the `compute_metrics` function that you coded in a previous assignment:"
      ]
    },
    {
      "cell_type": "code",
      "execution_count": 53,
      "metadata": {
        "id": "pevsDrezlI8l"
      },
      "outputs": [],
      "source": [
        "def compute_metrics(true_series, forecast):\n",
        "    \n",
        "    mse = tf.keras.metrics.mean_squared_error(true_series, forecast).numpy()\n",
        "    mae = tf.keras.metrics.mean_absolute_error(true_series, forecast).numpy()\n",
        "\n",
        "    return mse, mae"
      ]
    },
    {
      "cell_type": "markdown",
      "metadata": {
        "id": "EpJ59A8BlI8m"
      },
      "source": [
        "At this point only the model that will perform the forecast is ready but you still need to compute the actual forecast.\n",
        "\n"
      ]
    },
    {
      "cell_type": "markdown",
      "metadata": {
        "id": "ex6XeNWPlI8m"
      },
      "source": [
        "## Faster model forecasts\n",
        "\n",
        "In the previous week you saw a faster approach compared to using a for loop to compute the forecasts for every point in the sequence. Remember that this faster approach uses batches of data. \n",
        "\n",
        "The code to implement this is provided in the `model_forecast` below. Notice that the code is very similar to the one in the `windowed_dataset` function with the differences that:\n",
        "- The dataset is windowed using `window_size` rather than `window_size + 1`\n",
        "- No shuffle should be used\n",
        "- No need to split the data into features and labels\n",
        "- A model is used to predict batches of the dataset"
      ]
    },
    {
      "cell_type": "code",
      "execution_count": 54,
      "metadata": {
        "id": "4XwGrf-A_wF0"
      },
      "outputs": [],
      "source": [
        "def model_forecast(model, series, window_size):\n",
        "    ds = tf.data.Dataset.from_tensor_slices(series)\n",
        "    ds = ds.window(window_size, shift=1, drop_remainder=True)\n",
        "    ds = ds.flat_map(lambda w: w.batch(window_size))\n",
        "    ds = ds.batch(32).prefetch(1)\n",
        "    forecast = model.predict(ds)\n",
        "    return forecast"
      ]
    },
    {
      "cell_type": "code",
      "execution_count": 55,
      "metadata": {
        "colab": {
          "base_uri": "https://localhost:8080/",
          "height": 406
        },
        "id": "PrktQX3hKYex",
        "outputId": "537b18ef-0525-4b96-dd37-2d8b4b3ae829"
      },
      "outputs": [
        {
          "output_type": "stream",
          "name": "stdout",
          "text": [
            "113/113 [==============================] - 3s 19ms/step\n"
          ]
        },
        {
          "output_type": "display_data",
          "data": {
            "text/plain": [
              "<Figure size 720x432 with 1 Axes>"
            ],
            "image/png": "[encoded data removed]"
          },
          "metadata": {
            "needs_background": "light"
          }
        }
      ],
      "source": [
        "# Compute the forecast for all the series\n",
        "rnn_forecast = model_forecast(model, G.SERIES, G.WINDOW_SIZE).squeeze()\n",
        "\n",
        "# Slice the forecast to get only the predictions for the validation set\n",
        "rnn_forecast = rnn_forecast[G.SPLIT_TIME - G.WINDOW_SIZE:-1]\n",
        "\n",
        "\n",
        "# Plot the forecast\n",
        "plt.figure(figsize=(10, 6))\n",
        "plot_series(time_valid, series_valid)\n",
        "plot_series(time_valid, rnn_forecast)"
      ]
    },
    {
      "cell_type": "code",
      "execution_count": 56,
      "metadata": {
        "id": "FcthGuGDlI8m",
        "outputId": "f2643a9c-2eca-4e5f-e6ba-a07657e362bb",
        "colab": {
          "base_uri": "https://localhost:8080/"
        }
      },
      "outputs": [
        {
          "output_type": "stream",
          "name": "stdout",
          "text": [
            "mse: 5.18, mae: 1.78 for forecast\n"
          ]
        }
      ],
      "source": [
        "mse, mae = compute_metrics(series_valid, rnn_forecast)\n",
        "\n",
        "print(f\"mse: {mse:.2f}, mae: {mae:.2f} for forecast\")"
      ]
    },
    {
      "cell_type": "markdown",
      "metadata": {
        "id": "tkFmfY_LlI8n"
      },
      "source": [
        "**To pass this assignment your forecast should achieve a MSE of 6 or less and a MAE of 2 or less.**\n",
        "\n",
        "- If your forecast didn't achieve this threshold try re-training your model with a different architecture (you will need to re-run both `create_uncompiled_model` and `create_model` functions) or tweaking the optimizer's parameters.\n",
        "\n",
        "\n",
        "- If your forecast did achieve this threshold run the following cell to save the model in a HDF5 file which will be used for grading and after doing so, submit your assigment for grading.\n",
        "\n",
        "\n",
        "- This environment includes a dummy `my_model.h5` file which is just a dummy model trained for one epoch. **To replace this file with your actual model you need to run the next cell before submitting for grading.**"
      ]
    },
    {
      "cell_type": "code",
      "execution_count": 57,
      "metadata": {
        "id": "e1c2LfoSlI8n"
      },
      "outputs": [],
      "source": [
        "# Save your model into a HDF5 file\n",
        "model.save(\"my_model.h5\")"
      ]
    },
    {
      "cell_type": "markdown",
      "metadata": {
        "id": "Aqpz0Hs-lI8n"
      },
      "source": [
        "**Congratulations on finishing this week's assignment!**\n",
        "\n",
        "You have successfully implemented a neural network capable of forecasting time series leveraging a combination of Tensorflow's layers such as Convolutional and LSTMs! This resulted in a forecast that surpasses all the ones you did previously.\n",
        "\n",
        "**By finishing this assignment you have finished the specialization! Give yourself a pat on the back!!!**"
      ]
    }
  ],
  "metadata": {
    "kernelspec": {
      "display_name": "Python 3",
      "language": "python",
      "name": "python3"
    },
    "language_info": {
      "codemirror_mode": {
        "name": "ipython",
        "version": 3
      },
      "file_extension": ".py",
      "mimetype": "text/x-python",
      "name": "python",
      "nbconvert_exporter": "python",
      "pygments_lexer": "ipython3",
      "version": "3.8.8"
    },
    "colab": {
      "provenance": []
    }
  },
  "nbformat": 4,
  "nbformat_minor": 0
}